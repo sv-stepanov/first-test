{
  "nbformat": 4,
  "nbformat_minor": 0,
  "metadata": {
    "colab": {
      "provenance": [],
      "include_colab_link": true
    },
    "kernelspec": {
      "name": "python3",
      "display_name": "Python 3"
    },
    "language_info": {
      "name": "python"
    }
  },
  "cells": [
    {
      "cell_type": "markdown",
      "metadata": {
        "id": "view-in-github",
        "colab_type": "text"
      },
      "source": [
        "<a href=\"https://colab.research.google.com/github/sv-stepanov/first-test/blob/main/loguru_test.ipynb\" target=\"_parent\"><img src=\"https://colab.research.google.com/assets/colab-badge.svg\" alt=\"Open In Colab\"/></a>"
      ]
    },
    {
      "cell_type": "code",
      "execution_count": null,
      "metadata": {
        "colab": {
          "base_uri": "https://localhost:8080/"
        },
        "id": "i-OsHj8ilniD",
        "outputId": "4f296134-9574-4ca1-ccce-91c94baed128"
      },
      "outputs": [
        {
          "output_type": "stream",
          "name": "stdout",
          "text": [
            "Requirement already satisfied: loguru in /usr/local/lib/python3.10/dist-packages (0.7.0)\n"
          ]
        }
      ],
      "source": [
        "!pip install loguru"
      ]
    },
    {
      "cell_type": "code",
      "source": [
        "from loguru import logger\n",
        "logger.add('logs/logs.log', level='INFO', rotation=\"100 MB\")\n",
        "logger.debug('Error')\n",
        "logger.info('Information message')\n",
        "logger.warning('Warning')\n",
        "logger.error('Error2')\n",
        "\n"
      ],
      "metadata": {
        "colab": {
          "base_uri": "https://localhost:8080/"
        },
        "id": "muA4t-wnmQE-",
        "outputId": "c4099e5c-732d-429e-d685-654884cda428"
      },
      "execution_count": null,
      "outputs": [
        {
          "output_type": "stream",
          "name": "stderr",
          "text": [
            "\u001b[32m2023-08-02 14:22:56.911\u001b[0m | \u001b[34m\u001b[1mDEBUG   \u001b[0m | \u001b[36m__main__\u001b[0m:\u001b[36m<cell line: 3>\u001b[0m:\u001b[36m3\u001b[0m - \u001b[34m\u001b[1mError\u001b[0m\n",
            "\u001b[32m2023-08-02 14:22:56.914\u001b[0m | \u001b[1mINFO    \u001b[0m | \u001b[36m__main__\u001b[0m:\u001b[36m<cell line: 4>\u001b[0m:\u001b[36m4\u001b[0m - \u001b[1mInformation message\u001b[0m\n",
            "\u001b[32m2023-08-02 14:22:56.917\u001b[0m | \u001b[33m\u001b[1mWARNING \u001b[0m | \u001b[36m__main__\u001b[0m:\u001b[36m<cell line: 5>\u001b[0m:\u001b[36m5\u001b[0m - \u001b[33m\u001b[1mWarning\u001b[0m\n",
            "\u001b[32m2023-08-02 14:22:56.920\u001b[0m | \u001b[31m\u001b[1mERROR   \u001b[0m | \u001b[36m__main__\u001b[0m:\u001b[36m<cell line: 6>\u001b[0m:\u001b[36m6\u001b[0m - \u001b[31m\u001b[1mError2\u001b[0m\n"
          ]
        }
      ]
    }
  ]
}